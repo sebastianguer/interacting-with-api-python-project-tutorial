{
    "cells": [
        {
            "cell_type": "markdown",
            "metadata": {},
            "source": [
                "# Explore here"
            ]
        },
        {
            "cell_type": "code",
            "execution_count": 26,
            "metadata": {},
            "outputs": [
                {
                    "data": {
                        "text/plain": [
                            "True"
                        ]
                    },
                    "execution_count": 26,
                    "metadata": {},
                    "output_type": "execute_result"
                }
            ],
            "source": [
                "import os\n",
                "import pandas as pd\n",
                "#import seaborn as sns\n",
                "from dotenv import load_dotenv\n",
                "\n",
                "# load the .env file variables\n",
                "load_dotenv()\n",
                "\n"
            ]
        },
        {
            "cell_type": "code",
            "execution_count": 27,
            "metadata": {},
            "outputs": [],
            "source": [
                "from dotenv import load_dotenv\n",
                "load_dotenv()\n",
                "\n",
                "import os\n",
                "\n",
                "client_id = os.environ.get(\"CLIENT_ID\")\n",
                "client_secret = os.environ.get(\"CLIENT_SECRET\")"
            ]
        },
        {
            "cell_type": "code",
            "execution_count": 28,
            "metadata": {},
            "outputs": [],
            "source": [
                "import spotipy\n",
                "from spotipy.oauth2 import SpotifyClientCredentials\n",
                "\n",
                "con = spotipy.Spotify(auth_manager = SpotifyClientCredentials(client_id = client_id,\n",
                "                                                              client_secret = client_secret))"
            ]
        },
        {
            "cell_type": "code",
            "execution_count": 32,
            "metadata": {},
            "outputs": [
                {
                    "name": "stdout",
                    "output_type": "stream",
                    "text": [
                        "[{'duration_ms': 2.899766666666667, 'name': 'One Dance', 'popularity': 86}, {'duration_ms': 5.31985, 'name': 'Rich Baby Daddy (feat. Sexyy Red & SZA)', 'popularity': 82}, {'duration_ms': 3.879566666666667, 'name': 'Push Ups', 'popularity': 82}, {'duration_ms': 3.1648833333333335, 'name': 'WAIT FOR U (feat. Drake & Tems)', 'popularity': 81}, {'duration_ms': 3.6394, 'name': 'Jimmy Cooks (feat. 21 Savage)', 'popularity': 81}, {'duration_ms': 7.61555, 'name': 'Family Matters', 'popularity': 81}, {'duration_ms': 4.982333333333333, 'name': 'Passionfruit', 'popularity': 81}, {'duration_ms': 3.3162166666666666, 'name': \"God's Plan\", 'popularity': 81}, {'duration_ms': 4.335183333333333, 'name': 'IDGAF (feat. Yeat)', 'popularity': 80}, {'duration_ms': 4.124066666666667, 'name': 'First Person Shooter (feat. J. Cole)', 'popularity': 78}]\n"
                    ]
                }
            ],
            "source": [
                "artist_id = \"3TVXtAsR1Inumwj472S9r4\"\n",
                "\n",
                "response = con.artist_top_tracks(\"3TVXtAsR1Inumwj472S9r4\")\n",
                "\n",
                "if response:\n",
                "  tracks = response[\"tracks\"]\n",
                "  # We select, for each song, the data we are interested in and discard the rest\n",
                "  tracks = [{k: (v/(1000*60))%60 if k == \"duration_ms\" else v for k, v in track.items() if k in [\"name\", \"popularity\", \"duration_ms\"]} for track in tracks]\n",
                "  print(tracks)\n"
            ]
        },
        {
            "cell_type": "code",
            "execution_count": 33,
            "metadata": {},
            "outputs": [
                {
                    "name": "stdout",
                    "output_type": "stream",
                    "text": [
                        "   duration_ms                                  name  popularity\n",
                        "9     4.124067  First Person Shooter (feat. J. Cole)          78\n",
                        "8     4.335183                    IDGAF (feat. Yeat)          80\n",
                        "3     3.164883       WAIT FOR U (feat. Drake & Tems)          81\n"
                    ]
                }
            ],
            "source": [
                "import pandas as pd\n",
                "\n",
                "tracks_df = pd.DataFrame.from_records(tracks)\n",
                "tracks_df.sort_values([\"popularity\"], inplace = True)\n",
                "\n",
                "print(tracks_df.head(3))"
            ]
        },
        {
            "cell_type": "code",
            "execution_count": 35,
            "metadata": {},
            "outputs": [
                {
                    "data": {
                        "image/png": "[encoded data removed]",
                        "text/plain": [
                            "<Figure size 640x480 with 1 Axes>"
                        ]
                    },
                    "metadata": {},
                    "output_type": "display_data"
                }
            ],
            "source": [
                "import seaborn as sns\n",
                "\n",
                "scatter_plot = sns.scatterplot(data = tracks_df, x = \"popularity\", y = \"duration_ms\")\n",
                "fig = scatter_plot.get_figure()\n",
                "fig.savefig(\"scatter_plot.png\")"
            ]
        },
        {
            "cell_type": "code",
            "execution_count": null,
            "metadata": {},
            "outputs": [],
            "source": [
                "# No hay relacion entre la popularidad de una canción y la duración de la misma, en el gráfico se puede ver como \n",
                "# todos los puntos están dispersos sin seguir una linealidad."
            ]
        }
    ],
    "metadata": {
        "kernelspec": {
            "display_name": "Python 3.8.13 64-bit ('3.8.13')",
            "language": "python",
            "name": "python3"
        },
        "language_info": {
            "codemirror_mode": {
                "name": "ipython",
                "version": 3
            },
            "file_extension": ".py",
            "mimetype": "text/x-python",
            "name": "python",
            "nbconvert_exporter": "python",
            "pygments_lexer": "ipython3",
            "version": "3.11.4"
        },
        "orig_nbformat": 4,
        "vscode": {
            "interpreter": {
                "hash": "110cc1dee26208153f2972f08a2ad52b6a56238dc66d48e87fb757ef2996db56"
            }
        }
    },
    "nbformat": 4,
    "nbformat_minor": 2
}
